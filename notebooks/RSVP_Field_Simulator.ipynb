# This code is saved as a script, please convert to Jupyter Notebook manually if needed.

import numpy as np
import matplotlib.pyplot as plt

# Grid setup
N = 32
T = 100
dt = 0.05

# Initialize scalar (Φ), vector (𝒗), and entropy (𝒮) fields
Phi = np.random.rand(N, N)
vx = np.random.randn(N, N) * 0.1
vy = np.random.randn(N, N) * 0.1
S = np.zeros((N, N))

# Laplacian helper function
def laplacian(Z):
    return (
        -4 * Z
        + np.roll(Z, 1, axis=0)
        + np.roll(Z, -1, axis=0)
        + np.roll(Z, 1, axis=1)
        + np.roll(Z, -1, axis=1)
    )

# Storage for snapshots
snapshots = []

# Simulation loop
for t in range(T):
    # Update scalar field (diffusion + advection)
    adv_x = np.roll(Phi, -1, axis=1) - np.roll(Phi, 1, axis=1)
    adv_y = np.roll(Phi, -1, axis=0) - np.roll(Phi, 1, axis=0)
    Phi += dt * (0.1 * laplacian(Phi) - 0.05 * (vx * adv_x + vy * adv_y))

    # Update vector field with curl (torsion-like behavior)
    curl = np.roll(vy, -1, axis=1) - np.roll(vx, -1, axis=0)
    vx += dt * (0.1 * laplacian(vx) + 0.01 * curl)
    vy += dt * (0.1 * laplacian(vy) - 0.01 * curl)

    # Update entropy field (entropy increases with Φ gradients)
    grad_phi_sq = (np.roll(Phi, -1, axis=0) - Phi)**2 + (np.roll(Phi, -1, axis=1) - Phi)**2
    S += dt * (0.05 * laplacian(S) + 0.02 * grad_phi_sq)

    if t % 20 == 0:
        snapshots.append((Phi.copy(), vx.copy(), vy.copy(), S.copy()))

# Visualization
fig, axes = plt.subplots(len(snapshots), 4, figsize=(12, 3 * len(snapshots)))
for i, (phi, vx_i, vy_i, s) in enumerate(snapshots):
    axes[i, 0].imshow(phi, cmap='plasma')
    axes[i, 0].set_title(f'Φ (t={i*20})')
    axes[i, 1].quiver(vx_i, vy_i, scale=5)
    axes[i, 1].set_title('𝒗 (vector field)')
    axes[i, 2].imshow(s, cmap='inferno')
    axes[i, 2].set_title('𝒮 (entropy)')
    axes[i, 3].imshow(phi + s, cmap='viridis')
    axes[i, 3].set_title('Φ + 𝒮 (coupled view)')
    for ax in axes[i]:
        ax.axis('off')

plt.tight_layout()
plt.show()
